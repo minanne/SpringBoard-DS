{
 "cells": [
  {
   "cell_type": "markdown",
   "id": "7f2f8321",
   "metadata": {},
   "source": [
    "\n",
    "\n",
    "# Goal: predict which previously purchased products will be in a user’s next order"
   ]
  },
  {
   "cell_type": "code",
   "execution_count": 1,
   "id": "ecb807c0",
   "metadata": {},
   "outputs": [],
   "source": [
    "import pandas as pd\n",
    "import numpy as np\n",
    "from zipfile import ZipFile\n",
    "import glob\n",
    "import matplotlib.pyplot as plt\n",
    "%matplotlib inline\n",
    "from collections import Counter\n",
    "import seaborn as sns\n",
    "\n",
    "import warnings\n",
    "warnings.filterwarnings('ignore')"
   ]
  },
  {
   "cell_type": "code",
   "execution_count": 2,
   "id": "c6618416",
   "metadata": {},
   "outputs": [],
   "source": [
    "zf = ZipFile('/Users/minga/DataSci/instacart-market-basket-analysis/aisles.csv.zip')\n",
    "aisles = pd.read_csv(zf.open('aisles.csv'))"
   ]
  },
  {
   "cell_type": "code",
   "execution_count": 3,
   "id": "e17a7152",
   "metadata": {},
   "outputs": [
    {
     "name": "stdout",
     "output_type": "stream",
     "text": [
      "<class 'pandas.core.frame.DataFrame'>\n",
      "RangeIndex: 134 entries, 0 to 133\n",
      "Data columns (total 2 columns):\n",
      " #   Column    Non-Null Count  Dtype \n",
      "---  ------    --------------  ----- \n",
      " 0   aisle_id  134 non-null    int64 \n",
      " 1   aisle     134 non-null    object\n",
      "dtypes: int64(1), object(1)\n",
      "memory usage: 2.2+ KB\n"
     ]
    }
   ],
   "source": [
    "aisles.info()"
   ]
  },
  {
   "cell_type": "code",
   "execution_count": 4,
   "id": "c785b44a",
   "metadata": {},
   "outputs": [],
   "source": [
    "zf = ZipFile('/Users/minga/DataSci/instacart-market-basket-analysis/departments.csv.zip')\n",
    "departments = pd.read_csv(zf.open('departments.csv'))"
   ]
  },
  {
   "cell_type": "code",
   "execution_count": 5,
   "id": "40dd9447",
   "metadata": {},
   "outputs": [
    {
     "name": "stdout",
     "output_type": "stream",
     "text": [
      "<class 'pandas.core.frame.DataFrame'>\n",
      "RangeIndex: 21 entries, 0 to 20\n",
      "Data columns (total 2 columns):\n",
      " #   Column         Non-Null Count  Dtype \n",
      "---  ------         --------------  ----- \n",
      " 0   department_id  21 non-null     int64 \n",
      " 1   department     21 non-null     object\n",
      "dtypes: int64(1), object(1)\n",
      "memory usage: 464.0+ bytes\n"
     ]
    }
   ],
   "source": [
    "departments.info()"
   ]
  },
  {
   "cell_type": "code",
   "execution_count": 6,
   "id": "bfb5b2ff",
   "metadata": {},
   "outputs": [],
   "source": [
    "zf = ZipFile('/Users/minga/DataSci/instacart-market-basket-analysis/products.csv.zip')\n",
    "products = pd.read_csv(zf.open('products.csv'))"
   ]
  },
  {
   "cell_type": "code",
   "execution_count": 7,
   "id": "b2977ec8",
   "metadata": {},
   "outputs": [
    {
     "name": "stdout",
     "output_type": "stream",
     "text": [
      "<class 'pandas.core.frame.DataFrame'>\n",
      "RangeIndex: 49688 entries, 0 to 49687\n",
      "Data columns (total 4 columns):\n",
      " #   Column         Non-Null Count  Dtype \n",
      "---  ------         --------------  ----- \n",
      " 0   product_id     49688 non-null  int64 \n",
      " 1   product_name   49688 non-null  object\n",
      " 2   aisle_id       49688 non-null  int64 \n",
      " 3   department_id  49688 non-null  int64 \n",
      "dtypes: int64(3), object(1)\n",
      "memory usage: 1.5+ MB\n"
     ]
    }
   ],
   "source": [
    "products.info()"
   ]
  },
  {
   "cell_type": "code",
   "execution_count": 8,
   "id": "1737bab4",
   "metadata": {},
   "outputs": [],
   "source": [
    "zf = ZipFile('/Users/minga/DataSci/instacart-market-basket-analysis/order_products__prior.csv.zip')\n",
    "order_products_prior = pd.read_csv(zf.open('order_products__prior.csv'))"
   ]
  },
  {
   "cell_type": "code",
   "execution_count": 9,
   "id": "bbb8fbce",
   "metadata": {},
   "outputs": [
    {
     "name": "stdout",
     "output_type": "stream",
     "text": [
      "<class 'pandas.core.frame.DataFrame'>\n",
      "RangeIndex: 32434489 entries, 0 to 32434488\n",
      "Data columns (total 4 columns):\n",
      " #   Column             Non-Null Count     Dtype\n",
      "---  ------             --------------     -----\n",
      " 0   order_id           32434489 non-null  int64\n",
      " 1   product_id         32434489 non-null  int64\n",
      " 2   add_to_cart_order  32434489 non-null  int64\n",
      " 3   reordered          32434489 non-null  int64\n",
      "dtypes: int64(4)\n",
      "memory usage: 989.8 MB\n"
     ]
    }
   ],
   "source": [
    "order_products_prior.info(null_counts = True)"
   ]
  },
  {
   "cell_type": "code",
   "execution_count": 10,
   "id": "ded1f9de",
   "metadata": {},
   "outputs": [],
   "source": [
    "zf = ZipFile('/Users/minga/DataSci/instacart-market-basket-analysis/orders.csv.zip')\n",
    "orders = pd.read_csv(zf.open('orders.csv'))"
   ]
  },
  {
   "cell_type": "markdown",
   "id": "84c84f80",
   "metadata": {},
   "source": [
    "# Selected only 20% of orders"
   ]
  },
  {
   "cell_type": "code",
   "execution_count": 11,
   "id": "13a88abf",
   "metadata": {},
   "outputs": [],
   "source": [
    "orders = orders.sample(frac=0.20)"
   ]
  },
  {
   "cell_type": "code",
   "execution_count": 12,
   "id": "ca01d00f",
   "metadata": {},
   "outputs": [
    {
     "data": {
      "text/plain": [
       "(684217, 7)"
      ]
     },
     "execution_count": 12,
     "metadata": {},
     "output_type": "execute_result"
    }
   ],
   "source": [
    "orders.shape"
   ]
  },
  {
   "cell_type": "code",
   "execution_count": 13,
   "id": "48d30b59",
   "metadata": {},
   "outputs": [
    {
     "data": {
      "text/plain": [
       "684217"
      ]
     },
     "execution_count": 13,
     "metadata": {},
     "output_type": "execute_result"
    }
   ],
   "source": [
    "orders.order_id.nunique()"
   ]
  },
  {
   "cell_type": "code",
   "execution_count": 14,
   "id": "23d18777",
   "metadata": {},
   "outputs": [
    {
     "name": "stdout",
     "output_type": "stream",
     "text": [
      "<class 'pandas.core.frame.DataFrame'>\n",
      "Int64Index: 684217 entries, 2382392 to 2166322\n",
      "Data columns (total 7 columns):\n",
      " #   Column                  Non-Null Count   Dtype  \n",
      "---  ------                  --------------   -----  \n",
      " 0   order_id                684217 non-null  int64  \n",
      " 1   user_id                 684217 non-null  int64  \n",
      " 2   eval_set                684217 non-null  object \n",
      " 3   order_number            684217 non-null  int64  \n",
      " 4   order_dow               684217 non-null  int64  \n",
      " 5   order_hour_of_day       684217 non-null  int64  \n",
      " 6   days_since_prior_order  642799 non-null  float64\n",
      "dtypes: float64(1), int64(5), object(1)\n",
      "memory usage: 41.8+ MB\n"
     ]
    }
   ],
   "source": [
    "orders.info(verbose = True, null_counts = True)"
   ]
  },
  {
   "cell_type": "code",
   "execution_count": 15,
   "id": "148ed6bd",
   "metadata": {},
   "outputs": [],
   "source": [
    "zf = ZipFile('/Users/minga/DataSci/instacart-market-basket-analysis/order_products__train.csv.zip')\n",
    "order_products_train = pd.read_csv(zf.open('order_products__train.csv'))"
   ]
  },
  {
   "cell_type": "code",
   "execution_count": 16,
   "id": "fbb868ea",
   "metadata": {},
   "outputs": [
    {
     "name": "stdout",
     "output_type": "stream",
     "text": [
      "<class 'pandas.core.frame.DataFrame'>\n",
      "RangeIndex: 1384617 entries, 0 to 1384616\n",
      "Data columns (total 4 columns):\n",
      " #   Column             Non-Null Count    Dtype\n",
      "---  ------             --------------    -----\n",
      " 0   order_id           1384617 non-null  int64\n",
      " 1   product_id         1384617 non-null  int64\n",
      " 2   add_to_cart_order  1384617 non-null  int64\n",
      " 3   reordered          1384617 non-null  int64\n",
      "dtypes: int64(4)\n",
      "memory usage: 42.3 MB\n"
     ]
    }
   ],
   "source": [
    "order_products_train.info()"
   ]
  },
  {
   "cell_type": "markdown",
   "id": "2c464905",
   "metadata": {},
   "source": [
    "### Feature engineering on products"
   ]
  },
  {
   "cell_type": "code",
   "execution_count": 17,
   "id": "ecc57c83",
   "metadata": {},
   "outputs": [],
   "source": [
    "priors_orders_detail = orders.merge(right=order_products_prior, how='inner', on='order_id')"
   ]
  },
  {
   "cell_type": "code",
   "execution_count": 18,
   "id": "8f9b515f",
   "metadata": {},
   "outputs": [
    {
     "data": {
      "text/html": [
       "<div>\n",
       "<style scoped>\n",
       "    .dataframe tbody tr th:only-of-type {\n",
       "        vertical-align: middle;\n",
       "    }\n",
       "\n",
       "    .dataframe tbody tr th {\n",
       "        vertical-align: top;\n",
       "    }\n",
       "\n",
       "    .dataframe thead th {\n",
       "        text-align: right;\n",
       "    }\n",
       "</style>\n",
       "<table border=\"1\" class=\"dataframe\">\n",
       "  <thead>\n",
       "    <tr style=\"text-align: right;\">\n",
       "      <th></th>\n",
       "      <th>order_id</th>\n",
       "      <th>user_id</th>\n",
       "      <th>eval_set</th>\n",
       "      <th>order_number</th>\n",
       "      <th>order_dow</th>\n",
       "      <th>order_hour_of_day</th>\n",
       "      <th>days_since_prior_order</th>\n",
       "      <th>product_id</th>\n",
       "      <th>add_to_cart_order</th>\n",
       "      <th>reordered</th>\n",
       "      <th>_user_buy_product_times</th>\n",
       "    </tr>\n",
       "  </thead>\n",
       "  <tbody>\n",
       "    <tr>\n",
       "      <th>0</th>\n",
       "      <td>821738</td>\n",
       "      <td>143367</td>\n",
       "      <td>prior</td>\n",
       "      <td>13</td>\n",
       "      <td>6</td>\n",
       "      <td>9</td>\n",
       "      <td>5.0</td>\n",
       "      <td>19836</td>\n",
       "      <td>1</td>\n",
       "      <td>0</td>\n",
       "      <td>1</td>\n",
       "    </tr>\n",
       "    <tr>\n",
       "      <th>1</th>\n",
       "      <td>821738</td>\n",
       "      <td>143367</td>\n",
       "      <td>prior</td>\n",
       "      <td>13</td>\n",
       "      <td>6</td>\n",
       "      <td>9</td>\n",
       "      <td>5.0</td>\n",
       "      <td>33351</td>\n",
       "      <td>2</td>\n",
       "      <td>0</td>\n",
       "      <td>1</td>\n",
       "    </tr>\n",
       "    <tr>\n",
       "      <th>2</th>\n",
       "      <td>821738</td>\n",
       "      <td>143367</td>\n",
       "      <td>prior</td>\n",
       "      <td>13</td>\n",
       "      <td>6</td>\n",
       "      <td>9</td>\n",
       "      <td>5.0</td>\n",
       "      <td>40332</td>\n",
       "      <td>3</td>\n",
       "      <td>0</td>\n",
       "      <td>1</td>\n",
       "    </tr>\n",
       "    <tr>\n",
       "      <th>3</th>\n",
       "      <td>2737161</td>\n",
       "      <td>196130</td>\n",
       "      <td>prior</td>\n",
       "      <td>59</td>\n",
       "      <td>2</td>\n",
       "      <td>12</td>\n",
       "      <td>2.0</td>\n",
       "      <td>39475</td>\n",
       "      <td>1</td>\n",
       "      <td>1</td>\n",
       "      <td>1</td>\n",
       "    </tr>\n",
       "    <tr>\n",
       "      <th>4</th>\n",
       "      <td>2737161</td>\n",
       "      <td>196130</td>\n",
       "      <td>prior</td>\n",
       "      <td>59</td>\n",
       "      <td>2</td>\n",
       "      <td>12</td>\n",
       "      <td>2.0</td>\n",
       "      <td>17872</td>\n",
       "      <td>2</td>\n",
       "      <td>1</td>\n",
       "      <td>1</td>\n",
       "    </tr>\n",
       "  </tbody>\n",
       "</table>\n",
       "</div>"
      ],
      "text/plain": [
       "   order_id  user_id eval_set  order_number  order_dow  order_hour_of_day  \\\n",
       "0    821738   143367    prior            13          6                  9   \n",
       "1    821738   143367    prior            13          6                  9   \n",
       "2    821738   143367    prior            13          6                  9   \n",
       "3   2737161   196130    prior            59          2                 12   \n",
       "4   2737161   196130    prior            59          2                 12   \n",
       "\n",
       "   days_since_prior_order  product_id  add_to_cart_order  reordered  \\\n",
       "0                     5.0       19836                  1          0   \n",
       "1                     5.0       33351                  2          0   \n",
       "2                     5.0       40332                  3          0   \n",
       "3                     2.0       39475                  1          1   \n",
       "4                     2.0       17872                  2          1   \n",
       "\n",
       "   _user_buy_product_times  \n",
       "0                        1  \n",
       "1                        1  \n",
       "2                        1  \n",
       "3                        1  \n",
       "4                        1  "
      ]
     },
     "execution_count": 18,
     "metadata": {},
     "output_type": "execute_result"
    }
   ],
   "source": [
    "# check previously how many times the user has purchased the same item on this order using cumcount() \n",
    "priors_orders_detail['_user_buy_product_times'] = priors_orders_detail.groupby(['user_id', 'product_id']).cumcount() + 1\n",
    "priors_orders_detail.head()"
   ]
  },
  {
   "cell_type": "code",
   "execution_count": 19,
   "id": "4acd3a83",
   "metadata": {},
   "outputs": [],
   "source": [
    "# _prod_tot_cnts: how many times the product were purchased \n",
    "# _prod_reorder_tot_cnts: how many times the product were re-purchased\n",
    "# _prod_order_once: the product was purchased only once\n",
    "#_prod_buy_second_time_total_cnt: the product was purchased more than one time\n",
    "# _prod_reorder_ratio: the ratio of product being reordered\n",
    "\n",
    "prd = pd.concat([priors_orders_detail.groupby('product_id')['user_id'].count().rename('_prod_tot_cnts'),\n",
    "                priors_orders_detail.groupby('product_id')['reordered'].sum().rename('_prod_reorder_tot_cnts'),\n",
    "                priors_orders_detail.groupby('product_id')['_user_buy_product_times'].apply(\n",
    "                    lambda x: sum(x==1)).rename('_prod_buy_first_time_total_cnt'),\n",
    "                priors_orders_detail.groupby('product_id')['_user_buy_product_times'].apply(\n",
    "                    lambda x: sum(x>1)).rename('_prod_buy_multi_time_total_cnt')], axis = 1).reset_index()"
   ]
  },
  {
   "cell_type": "code",
   "execution_count": 20,
   "id": "f6bc1b26",
   "metadata": {},
   "outputs": [],
   "source": [
    "prd['_prod_reorder_ratio'] = prd._prod_reorder_tot_cnts/prd._prod_tot_cnts"
   ]
  },
  {
   "cell_type": "markdown",
   "id": "195f8b7b",
   "metadata": {},
   "source": [
    "### Continuous feature engineering on user"
   ]
  },
  {
   "cell_type": "code",
   "execution_count": 21,
   "id": "530dff06",
   "metadata": {},
   "outputs": [],
   "source": [
    "# _user_total_orders: total number of orders for each user\n",
    "# _user_mean_days_since_prior_order: the average days between orders\n",
    "#_user_max_days_since_prior_order: the max days between orders\n",
    "users = pd.concat([orders[orders.eval_set == 'prior'].groupby('user_id')['order_number'].max().rename('_user_total_orders'),\n",
    "                   orders[orders.eval_set == 'prior'].groupby('user_id')['days_since_prior_order'].mean().rename(\n",
    "                       '_user_mean_days_since_prior_order'),\n",
    "                   orders[orders.eval_set == 'prior'].groupby('user_id')['days_since_prior_order'].max().rename(\n",
    "                       '_user_max_days_since_prior_order'), ], axis =1).reset_index()"
   ]
  },
  {
   "cell_type": "code",
   "execution_count": 22,
   "id": "49312f5d",
   "metadata": {},
   "outputs": [],
   "source": [
    "# _user_total_products: how many products the user purchased\n",
    "# _user_distinct_products: number of unique products the user purchased\n",
    "users_2 = pd.concat([priors_orders_detail.groupby('user_id')['product_id'].count().rename('_user_total_products'),\n",
    "                priors_orders_detail.groupby('user_id')['product_id'].nunique().rename('_user_distinct_products'),\n",
    "                priors_orders_detail['user_id']], axis = 1)"
   ]
  },
  {
   "cell_type": "code",
   "execution_count": 23,
   "id": "aad0a856",
   "metadata": {},
   "outputs": [],
   "source": [
    "users = users.merge(users_2,how = 'inner')"
   ]
  },
  {
   "cell_type": "code",
   "execution_count": 24,
   "id": "3ce5a5c1",
   "metadata": {},
   "outputs": [],
   "source": [
    "# _user_average_basket: average number of products for each order\n",
    "users['_user_average_basket'] = users._user_total_products/users._user_total_orders"
   ]
  },
  {
   "cell_type": "code",
   "execution_count": 25,
   "id": "99051fcf",
   "metadata": {},
   "outputs": [],
   "source": [
    "users_3 = orders[orders.eval_set != \"prior\"][['user_id', 'order_id', 'eval_set', 'days_since_prior_order']]\n",
    "users_3.rename(index=str, columns={'days_since_prior_order': 'time_since_last_order'}, inplace=True)"
   ]
  },
  {
   "cell_type": "code",
   "execution_count": 26,
   "id": "ac631f70",
   "metadata": {},
   "outputs": [],
   "source": [
    "users = users.merge(users_3, how='inner')"
   ]
  },
  {
   "cell_type": "markdown",
   "id": "f797e19b",
   "metadata": {},
   "source": [
    "### Continuous feature engineering on database"
   ]
  },
  {
   "cell_type": "code",
   "execution_count": 27,
   "id": "1d4e6a97",
   "metadata": {},
   "outputs": [],
   "source": [
    "# _up_order_count: how many times the user has purchased the product\n",
    "# _up_average_cart_position: the avearge position the item was placed into the shopping cart\n",
    "\n",
    "data = pd.concat([priors_orders_detail.groupby(['user_id', 'product_id'])['order_number'].count().rename('_up_order_count'),\n",
    "                priors_orders_detail.groupby(['user_id', 'product_id'])['add_to_cart_order'].mean().rename(\n",
    "                    '_up_average_cart_position')], axis = 1).reset_index()"
   ]
  },
  {
   "cell_type": "code",
   "execution_count": 28,
   "id": "95f82978",
   "metadata": {},
   "outputs": [
    {
     "data": {
      "text/html": [
       "<div>\n",
       "<style scoped>\n",
       "    .dataframe tbody tr th:only-of-type {\n",
       "        vertical-align: middle;\n",
       "    }\n",
       "\n",
       "    .dataframe tbody tr th {\n",
       "        vertical-align: top;\n",
       "    }\n",
       "\n",
       "    .dataframe thead th {\n",
       "        text-align: right;\n",
       "    }\n",
       "</style>\n",
       "<table border=\"1\" class=\"dataframe\">\n",
       "  <thead>\n",
       "    <tr style=\"text-align: right;\">\n",
       "      <th></th>\n",
       "      <th>user_id</th>\n",
       "      <th>product_id</th>\n",
       "      <th>_up_order_count</th>\n",
       "      <th>_up_average_cart_position</th>\n",
       "      <th>_prod_tot_cnts</th>\n",
       "      <th>_prod_reorder_tot_cnts</th>\n",
       "      <th>_prod_buy_first_time_total_cnt</th>\n",
       "      <th>_prod_buy_multi_time_total_cnt</th>\n",
       "      <th>_prod_reorder_ratio</th>\n",
       "    </tr>\n",
       "  </thead>\n",
       "  <tbody>\n",
       "    <tr>\n",
       "      <th>0</th>\n",
       "      <td>1</td>\n",
       "      <td>196</td>\n",
       "      <td>2</td>\n",
       "      <td>3.0</td>\n",
       "      <td>7028</td>\n",
       "      <td>5432</td>\n",
       "      <td>3571</td>\n",
       "      <td>3457</td>\n",
       "      <td>0.772908</td>\n",
       "    </tr>\n",
       "    <tr>\n",
       "      <th>1</th>\n",
       "      <td>31</td>\n",
       "      <td>196</td>\n",
       "      <td>1</td>\n",
       "      <td>14.0</td>\n",
       "      <td>7028</td>\n",
       "      <td>5432</td>\n",
       "      <td>3571</td>\n",
       "      <td>3457</td>\n",
       "      <td>0.772908</td>\n",
       "    </tr>\n",
       "    <tr>\n",
       "      <th>2</th>\n",
       "      <td>52</td>\n",
       "      <td>196</td>\n",
       "      <td>2</td>\n",
       "      <td>5.5</td>\n",
       "      <td>7028</td>\n",
       "      <td>5432</td>\n",
       "      <td>3571</td>\n",
       "      <td>3457</td>\n",
       "      <td>0.772908</td>\n",
       "    </tr>\n",
       "    <tr>\n",
       "      <th>3</th>\n",
       "      <td>67</td>\n",
       "      <td>196</td>\n",
       "      <td>2</td>\n",
       "      <td>1.5</td>\n",
       "      <td>7028</td>\n",
       "      <td>5432</td>\n",
       "      <td>3571</td>\n",
       "      <td>3457</td>\n",
       "      <td>0.772908</td>\n",
       "    </tr>\n",
       "    <tr>\n",
       "      <th>4</th>\n",
       "      <td>81</td>\n",
       "      <td>196</td>\n",
       "      <td>1</td>\n",
       "      <td>2.0</td>\n",
       "      <td>7028</td>\n",
       "      <td>5432</td>\n",
       "      <td>3571</td>\n",
       "      <td>3457</td>\n",
       "      <td>0.772908</td>\n",
       "    </tr>\n",
       "  </tbody>\n",
       "</table>\n",
       "</div>"
      ],
      "text/plain": [
       "   user_id  product_id  _up_order_count  _up_average_cart_position  \\\n",
       "0        1         196                2                        3.0   \n",
       "1       31         196                1                       14.0   \n",
       "2       52         196                2                        5.5   \n",
       "3       67         196                2                        1.5   \n",
       "4       81         196                1                        2.0   \n",
       "\n",
       "   _prod_tot_cnts  _prod_reorder_tot_cnts  _prod_buy_first_time_total_cnt  \\\n",
       "0            7028                    5432                            3571   \n",
       "1            7028                    5432                            3571   \n",
       "2            7028                    5432                            3571   \n",
       "3            7028                    5432                            3571   \n",
       "4            7028                    5432                            3571   \n",
       "\n",
       "   _prod_buy_multi_time_total_cnt  _prod_reorder_ratio  \n",
       "0                            3457             0.772908  \n",
       "1                            3457             0.772908  \n",
       "2                            3457             0.772908  \n",
       "3                            3457             0.772908  \n",
       "4                            3457             0.772908  "
      ]
     },
     "execution_count": 28,
     "metadata": {},
     "output_type": "execute_result"
    }
   ],
   "source": [
    "data = data.merge(prd, how='inner', on='product_id')\n",
    "data.head()"
   ]
  },
  {
   "cell_type": "code",
   "execution_count": 29,
   "id": "22786da6",
   "metadata": {},
   "outputs": [
    {
     "data": {
      "text/plain": [
       "'\\n# release Memory\\ndel priors_orders_detail, orders, prd, users_2, users_3\\n\\n# Importing gc module\\nimport gc\\n \\n# Returns the number of\\n# objects it has collected\\n# and deallocated\\ncollected = gc.collect()\\n \\n# Prints Garbage collector\\n# as 0 object\\nprint(\"Garbage collector: collected\",\\n          \"%d objects.\" % collected)\\n'"
      ]
     },
     "execution_count": 29,
     "metadata": {},
     "output_type": "execute_result"
    }
   ],
   "source": [
    "\"\"\"\n",
    "# release Memory\n",
    "del priors_orders_detail, orders, prd, users_2, users_3\n",
    "\n",
    "# Importing gc module\n",
    "import gc\n",
    " \n",
    "# Returns the number of\n",
    "# objects it has collected\n",
    "# and deallocated\n",
    "collected = gc.collect()\n",
    " \n",
    "# Prints Garbage collector\n",
    "# as 0 object\n",
    "print(\"Garbage collector: collected\",\n",
    "          \"%d objects.\" % collected)\n",
    "\"\"\""
   ]
  },
  {
   "cell_type": "code",
   "execution_count": 30,
   "id": "359bb645",
   "metadata": {},
   "outputs": [],
   "source": [
    "users = users[users.eval_set == 'train']"
   ]
  },
  {
   "cell_type": "code",
   "execution_count": 31,
   "id": "2b826808",
   "metadata": {},
   "outputs": [
    {
     "data": {
      "text/html": [
       "<div>\n",
       "<style scoped>\n",
       "    .dataframe tbody tr th:only-of-type {\n",
       "        vertical-align: middle;\n",
       "    }\n",
       "\n",
       "    .dataframe tbody tr th {\n",
       "        vertical-align: top;\n",
       "    }\n",
       "\n",
       "    .dataframe thead th {\n",
       "        text-align: right;\n",
       "    }\n",
       "</style>\n",
       "<table border=\"1\" class=\"dataframe\">\n",
       "  <thead>\n",
       "    <tr style=\"text-align: right;\">\n",
       "      <th></th>\n",
       "      <th>user_id</th>\n",
       "      <th>product_id</th>\n",
       "      <th>_up_order_count</th>\n",
       "      <th>_up_average_cart_position</th>\n",
       "      <th>_prod_tot_cnts</th>\n",
       "      <th>_prod_reorder_tot_cnts</th>\n",
       "      <th>_prod_buy_first_time_total_cnt</th>\n",
       "      <th>_prod_buy_multi_time_total_cnt</th>\n",
       "      <th>_prod_reorder_ratio</th>\n",
       "      <th>_user_total_orders</th>\n",
       "      <th>_user_mean_days_since_prior_order</th>\n",
       "      <th>_user_max_days_since_prior_order</th>\n",
       "      <th>_user_total_products</th>\n",
       "      <th>_user_distinct_products</th>\n",
       "      <th>_user_average_basket</th>\n",
       "      <th>order_id</th>\n",
       "      <th>eval_set</th>\n",
       "      <th>time_since_last_order</th>\n",
       "    </tr>\n",
       "  </thead>\n",
       "  <tbody>\n",
       "    <tr>\n",
       "      <th>0</th>\n",
       "      <td>120</td>\n",
       "      <td>196</td>\n",
       "      <td>1</td>\n",
       "      <td>2.0</td>\n",
       "      <td>7028</td>\n",
       "      <td>5432</td>\n",
       "      <td>3571</td>\n",
       "      <td>3457</td>\n",
       "      <td>0.772908</td>\n",
       "      <td>1</td>\n",
       "      <td>NaN</td>\n",
       "      <td>NaN</td>\n",
       "      <td>NaN</td>\n",
       "      <td>NaN</td>\n",
       "      <td>NaN</td>\n",
       "      <td>961032</td>\n",
       "      <td>train</td>\n",
       "      <td>30.0</td>\n",
       "    </tr>\n",
       "    <tr>\n",
       "      <th>1</th>\n",
       "      <td>120</td>\n",
       "      <td>196</td>\n",
       "      <td>1</td>\n",
       "      <td>2.0</td>\n",
       "      <td>7028</td>\n",
       "      <td>5432</td>\n",
       "      <td>3571</td>\n",
       "      <td>3457</td>\n",
       "      <td>0.772908</td>\n",
       "      <td>1</td>\n",
       "      <td>NaN</td>\n",
       "      <td>NaN</td>\n",
       "      <td>NaN</td>\n",
       "      <td>NaN</td>\n",
       "      <td>NaN</td>\n",
       "      <td>961032</td>\n",
       "      <td>train</td>\n",
       "      <td>30.0</td>\n",
       "    </tr>\n",
       "    <tr>\n",
       "      <th>2</th>\n",
       "      <td>120</td>\n",
       "      <td>196</td>\n",
       "      <td>1</td>\n",
       "      <td>2.0</td>\n",
       "      <td>7028</td>\n",
       "      <td>5432</td>\n",
       "      <td>3571</td>\n",
       "      <td>3457</td>\n",
       "      <td>0.772908</td>\n",
       "      <td>1</td>\n",
       "      <td>NaN</td>\n",
       "      <td>NaN</td>\n",
       "      <td>NaN</td>\n",
       "      <td>NaN</td>\n",
       "      <td>NaN</td>\n",
       "      <td>961032</td>\n",
       "      <td>train</td>\n",
       "      <td>30.0</td>\n",
       "    </tr>\n",
       "    <tr>\n",
       "      <th>3</th>\n",
       "      <td>120</td>\n",
       "      <td>46149</td>\n",
       "      <td>1</td>\n",
       "      <td>1.0</td>\n",
       "      <td>1689</td>\n",
       "      <td>1369</td>\n",
       "      <td>810</td>\n",
       "      <td>879</td>\n",
       "      <td>0.810539</td>\n",
       "      <td>1</td>\n",
       "      <td>NaN</td>\n",
       "      <td>NaN</td>\n",
       "      <td>NaN</td>\n",
       "      <td>NaN</td>\n",
       "      <td>NaN</td>\n",
       "      <td>961032</td>\n",
       "      <td>train</td>\n",
       "      <td>30.0</td>\n",
       "    </tr>\n",
       "    <tr>\n",
       "      <th>4</th>\n",
       "      <td>120</td>\n",
       "      <td>46149</td>\n",
       "      <td>1</td>\n",
       "      <td>1.0</td>\n",
       "      <td>1689</td>\n",
       "      <td>1369</td>\n",
       "      <td>810</td>\n",
       "      <td>879</td>\n",
       "      <td>0.810539</td>\n",
       "      <td>1</td>\n",
       "      <td>NaN</td>\n",
       "      <td>NaN</td>\n",
       "      <td>NaN</td>\n",
       "      <td>NaN</td>\n",
       "      <td>NaN</td>\n",
       "      <td>961032</td>\n",
       "      <td>train</td>\n",
       "      <td>30.0</td>\n",
       "    </tr>\n",
       "  </tbody>\n",
       "</table>\n",
       "</div>"
      ],
      "text/plain": [
       "   user_id  product_id  _up_order_count  _up_average_cart_position  \\\n",
       "0      120         196                1                        2.0   \n",
       "1      120         196                1                        2.0   \n",
       "2      120         196                1                        2.0   \n",
       "3      120       46149                1                        1.0   \n",
       "4      120       46149                1                        1.0   \n",
       "\n",
       "   _prod_tot_cnts  _prod_reorder_tot_cnts  _prod_buy_first_time_total_cnt  \\\n",
       "0            7028                    5432                            3571   \n",
       "1            7028                    5432                            3571   \n",
       "2            7028                    5432                            3571   \n",
       "3            1689                    1369                             810   \n",
       "4            1689                    1369                             810   \n",
       "\n",
       "   _prod_buy_multi_time_total_cnt  _prod_reorder_ratio  _user_total_orders  \\\n",
       "0                            3457             0.772908                   1   \n",
       "1                            3457             0.772908                   1   \n",
       "2                            3457             0.772908                   1   \n",
       "3                             879             0.810539                   1   \n",
       "4                             879             0.810539                   1   \n",
       "\n",
       "   _user_mean_days_since_prior_order  _user_max_days_since_prior_order  \\\n",
       "0                                NaN                               NaN   \n",
       "1                                NaN                               NaN   \n",
       "2                                NaN                               NaN   \n",
       "3                                NaN                               NaN   \n",
       "4                                NaN                               NaN   \n",
       "\n",
       "   _user_total_products  _user_distinct_products  _user_average_basket  \\\n",
       "0                   NaN                      NaN                   NaN   \n",
       "1                   NaN                      NaN                   NaN   \n",
       "2                   NaN                      NaN                   NaN   \n",
       "3                   NaN                      NaN                   NaN   \n",
       "4                   NaN                      NaN                   NaN   \n",
       "\n",
       "   order_id eval_set  time_since_last_order  \n",
       "0    961032    train                   30.0  \n",
       "1    961032    train                   30.0  \n",
       "2    961032    train                   30.0  \n",
       "3    961032    train                   30.0  \n",
       "4    961032    train                   30.0  "
      ]
     },
     "execution_count": 31,
     "metadata": {},
     "output_type": "execute_result"
    }
   ],
   "source": [
    "data = data.merge(users, how='inner', on='user_id')\n",
    "data.head()"
   ]
  },
  {
   "cell_type": "code",
   "execution_count": 32,
   "id": "08961ebd",
   "metadata": {},
   "outputs": [],
   "source": [
    "# add user_id to train set\n",
    "order_products_train = order_products_train.merge(right=orders[['order_id', 'user_id']], how='left', on='order_id')\n",
    "data = data.merge(order_products_train[['user_id', 'product_id', 'reordered']], on=['user_id', 'product_id'], how='left')"
   ]
  },
  {
   "cell_type": "code",
   "execution_count": 33,
   "id": "88d365df",
   "metadata": {},
   "outputs": [],
   "source": [
    "train = data.loc[data.eval_set == \"train\",:]\n",
    "train.drop(['eval_set', 'user_id', 'product_id', 'order_id'], axis=1, inplace=True)\n",
    "train.loc[:, 'reordered'] = train.reordered.fillna(0)"
   ]
  },
  {
   "cell_type": "code",
   "execution_count": 34,
   "id": "d58bb3b8",
   "metadata": {},
   "outputs": [],
   "source": [
    "from sklearn.model_selection import train_test_split\n",
    "\n",
    "X_train, X_test, y_train, y_test = train_test_split (\n",
    "    train.drop('reordered', axis = 1), train.reordered, test_size = 0.2, random_state = 42)\n"
   ]
  },
  {
   "cell_type": "code",
   "execution_count": 35,
   "id": "09f31b60",
   "metadata": {},
   "outputs": [
    {
     "data": {
      "text/plain": [
       "(36863590, 14)"
      ]
     },
     "execution_count": 35,
     "metadata": {},
     "output_type": "execute_result"
    }
   ],
   "source": [
    "X_train.shape"
   ]
  },
  {
   "cell_type": "markdown",
   "id": "13462669",
   "metadata": {},
   "source": [
    "### Lightgbm"
   ]
  },
  {
   "cell_type": "code",
   "execution_count": 36,
   "id": "7e78351c",
   "metadata": {},
   "outputs": [],
   "source": [
    "import lightgbm as lgb\n",
    "from lightgbm import LGBMClassifier\n",
    "lgbm_model = LGBMClassifier()\n",
    "lgbm_model.fit(X_train, y_train)\n",
    "y_pred = lgbm_model.predict(X_test)"
   ]
  },
  {
   "cell_type": "code",
   "execution_count": 37,
   "id": "1d464748",
   "metadata": {},
   "outputs": [
    {
     "data": {
      "text/plain": [
       "array([0., 0., 0., 0., 0.])"
      ]
     },
     "execution_count": 37,
     "metadata": {},
     "output_type": "execute_result"
    }
   ],
   "source": [
    "y_pred[:5]"
   ]
  },
  {
   "cell_type": "code",
   "execution_count": 38,
   "id": "f374a69f",
   "metadata": {},
   "outputs": [],
   "source": [
    "#converting probabilities into 0 or 1\n",
    "for i in range(0,len(y_pred)):\n",
    "    if y_pred[i]>=.5:       # setting threshold to .5\n",
    "       y_pred[i]=1\n",
    "    else:  \n",
    "       y_pred[i]=0"
   ]
  },
  {
   "cell_type": "code",
   "execution_count": 39,
   "id": "346a4f3e",
   "metadata": {},
   "outputs": [
    {
     "data": {
      "text/plain": [
       "0.878295202485965"
      ]
     },
     "execution_count": 39,
     "metadata": {},
     "output_type": "execute_result"
    }
   ],
   "source": [
    "#calculating accuracy\n",
    "from sklearn.metrics import accuracy_score\n",
    "accuracy_lgbm = accuracy_score(y_pred,y_test)\n",
    "accuracy_lgbm"
   ]
  },
  {
   "cell_type": "code",
   "execution_count": 40,
   "id": "ef5d913a",
   "metadata": {},
   "outputs": [
    {
     "name": "stdout",
     "output_type": "stream",
     "text": [
      "              precision    recall  f1-score   support\n",
      "\n",
      "         0.0       0.88      0.99      0.93   8034461\n",
      "         1.0       0.66      0.11      0.18   1181437\n",
      "\n",
      "    accuracy                           0.88   9215898\n",
      "   macro avg       0.77      0.55      0.56   9215898\n",
      "weighted avg       0.85      0.88      0.84   9215898\n",
      "\n"
     ]
    }
   ],
   "source": [
    "from sklearn.metrics import classification_report\n",
    "print(classification_report(y_test, y_pred))\n"
   ]
  },
  {
   "cell_type": "code",
   "execution_count": 41,
   "id": "bae53d10",
   "metadata": {},
   "outputs": [
    {
     "data": {
      "image/png": "[encoded data removed]",
      "text/plain": [
       "<Figure size 432x288 with 2 Axes>"
      ]
     },
     "metadata": {
      "needs_background": "light"
     },
     "output_type": "display_data"
    }
   ],
   "source": [
    "from sklearn.metrics import confusion_matrix\n",
    "from sklearn.metrics import ConfusionMatrixDisplay\n",
    "\n",
    "\n",
    "cm = confusion_matrix(y_test, y_pred)\n",
    "disp = ConfusionMatrixDisplay(confusion_matrix = cm, display_labels = lgbm_model.classes_)\n",
    "disp.plot(cmap = 'viridis');"
   ]
  },
  {
   "cell_type": "code",
   "execution_count": 42,
   "id": "88c3c9da",
   "metadata": {},
   "outputs": [
    {
     "data": {
      "text/html": [
       "<div>\n",
       "<style scoped>\n",
       "    .dataframe tbody tr th:only-of-type {\n",
       "        vertical-align: middle;\n",
       "    }\n",
       "\n",
       "    .dataframe tbody tr th {\n",
       "        vertical-align: top;\n",
       "    }\n",
       "\n",
       "    .dataframe thead th {\n",
       "        text-align: right;\n",
       "    }\n",
       "</style>\n",
       "<table border=\"1\" class=\"dataframe\">\n",
       "  <thead>\n",
       "    <tr style=\"text-align: right;\">\n",
       "      <th></th>\n",
       "      <th>feature_importance</th>\n",
       "      <th>attribute</th>\n",
       "    </tr>\n",
       "  </thead>\n",
       "  <tbody>\n",
       "    <tr>\n",
       "      <th>7</th>\n",
       "      <td>495</td>\n",
       "      <td>_user_total_orders</td>\n",
       "    </tr>\n",
       "    <tr>\n",
       "      <th>6</th>\n",
       "      <td>418</td>\n",
       "      <td>_prod_reorder_ratio</td>\n",
       "    </tr>\n",
       "    <tr>\n",
       "      <th>8</th>\n",
       "      <td>402</td>\n",
       "      <td>_user_mean_days_since_prior_order</td>\n",
       "    </tr>\n",
       "    <tr>\n",
       "      <th>1</th>\n",
       "      <td>349</td>\n",
       "      <td>_up_average_cart_position</td>\n",
       "    </tr>\n",
       "    <tr>\n",
       "      <th>13</th>\n",
       "      <td>295</td>\n",
       "      <td>time_since_last_order</td>\n",
       "    </tr>\n",
       "    <tr>\n",
       "      <th>0</th>\n",
       "      <td>258</td>\n",
       "      <td>_up_order_count</td>\n",
       "    </tr>\n",
       "    <tr>\n",
       "      <th>9</th>\n",
       "      <td>234</td>\n",
       "      <td>_user_max_days_since_prior_order</td>\n",
       "    </tr>\n",
       "    <tr>\n",
       "      <th>2</th>\n",
       "      <td>203</td>\n",
       "      <td>_prod_tot_cnts</td>\n",
       "    </tr>\n",
       "    <tr>\n",
       "      <th>5</th>\n",
       "      <td>123</td>\n",
       "      <td>_prod_buy_multi_time_total_cnt</td>\n",
       "    </tr>\n",
       "    <tr>\n",
       "      <th>4</th>\n",
       "      <td>113</td>\n",
       "      <td>_prod_buy_first_time_total_cnt</td>\n",
       "    </tr>\n",
       "    <tr>\n",
       "      <th>3</th>\n",
       "      <td>109</td>\n",
       "      <td>_prod_reorder_tot_cnts</td>\n",
       "    </tr>\n",
       "    <tr>\n",
       "      <th>12</th>\n",
       "      <td>1</td>\n",
       "      <td>_user_average_basket</td>\n",
       "    </tr>\n",
       "    <tr>\n",
       "      <th>10</th>\n",
       "      <td>0</td>\n",
       "      <td>_user_total_products</td>\n",
       "    </tr>\n",
       "    <tr>\n",
       "      <th>11</th>\n",
       "      <td>0</td>\n",
       "      <td>_user_distinct_products</td>\n",
       "    </tr>\n",
       "  </tbody>\n",
       "</table>\n",
       "</div>"
      ],
      "text/plain": [
       "    feature_importance                          attribute\n",
       "7                  495                 _user_total_orders\n",
       "6                  418                _prod_reorder_ratio\n",
       "8                  402  _user_mean_days_since_prior_order\n",
       "1                  349          _up_average_cart_position\n",
       "13                 295              time_since_last_order\n",
       "0                  258                    _up_order_count\n",
       "9                  234   _user_max_days_since_prior_order\n",
       "2                  203                     _prod_tot_cnts\n",
       "5                  123     _prod_buy_multi_time_total_cnt\n",
       "4                  113     _prod_buy_first_time_total_cnt\n",
       "3                  109             _prod_reorder_tot_cnts\n",
       "12                   1               _user_average_basket\n",
       "10                   0               _user_total_products\n",
       "11                   0            _user_distinct_products"
      ]
     },
     "execution_count": 42,
     "metadata": {},
     "output_type": "execute_result"
    }
   ],
   "source": [
    "feature_importances = lgbm_model.feature_importances_\n",
    "feature_importances = pd.DataFrame(zip(feature_importances, X_train.columns), \n",
    "                                  columns = ['feature_importance', 'attribute']).sort_values('feature_importance', \n",
    "                                                                                             ascending = False)\n",
    "feature_importances"
   ]
  },
  {
   "cell_type": "code",
   "execution_count": 43,
   "id": "025f4dc3",
   "metadata": {},
   "outputs": [
    {
     "data": {
      "image/png": "[encoded data removed]",
      "text/plain": [
       "<Figure size 432x288 with 1 Axes>"
      ]
     },
     "metadata": {
      "needs_background": "light"
     },
     "output_type": "display_data"
    }
   ],
   "source": [
    "from lightgbm import plot_importance\n",
    "\n",
    "lgb.plot_importance(lgbm_model);"
   ]
  },
  {
   "cell_type": "markdown",
   "id": "f665b936",
   "metadata": {},
   "source": [
    "### XGBoost"
   ]
  },
  {
   "cell_type": "code",
   "execution_count": 44,
   "id": "fc88f2f9",
   "metadata": {},
   "outputs": [
    {
     "name": "stdout",
     "output_type": "stream",
     "text": [
      "[22:07:12] WARNING: D:\\bld\\xgboost-split_1637426510059\\work\\src\\learner.cc:1115: Starting in XGBoost 1.3.0, the default evaluation metric used with the objective 'binary:logistic' was changed from 'error' to 'logloss'. Explicitly set eval_metric if you'd like to restore the old behavior.\n"
     ]
    }
   ],
   "source": [
    "from xgboost import XGBClassifier\n",
    "xgb_model = XGBClassifier()\n",
    "xgb_model.fit(X_train, y_train)\n",
    "y_pred = xgb_model.predict(X_test)"
   ]
  },
  {
   "cell_type": "code",
   "execution_count": 45,
   "id": "5286ad2d",
   "metadata": {},
   "outputs": [],
   "source": [
    "#converting probabilities into 0 or 1\n",
    "for i in range(0,len(y_pred)):\n",
    "    if y_pred[i]>=.5:       # setting threshold to .5\n",
    "       y_pred[i]=1\n",
    "    else:  \n",
    "       y_pred[i]=0"
   ]
  },
  {
   "cell_type": "code",
   "execution_count": 46,
   "id": "b2fddaaf",
   "metadata": {},
   "outputs": [
    {
     "data": {
      "text/plain": [
       "0.883889122904789"
      ]
     },
     "execution_count": 46,
     "metadata": {},
     "output_type": "execute_result"
    }
   ],
   "source": [
    "#calculating accuracy\n",
    "from sklearn.metrics import accuracy_score\n",
    "accuracy_xgbm = accuracy_score(y_pred,y_test)\n",
    "accuracy_xgbm"
   ]
  },
  {
   "cell_type": "code",
   "execution_count": 47,
   "id": "784ae27c",
   "metadata": {},
   "outputs": [
    {
     "name": "stdout",
     "output_type": "stream",
     "text": [
      "              precision    recall  f1-score   support\n",
      "\n",
      "         0.0       0.89      0.99      0.94   8034461\n",
      "         1.0       0.73      0.15      0.25   1181437\n",
      "\n",
      "    accuracy                           0.88   9215898\n",
      "   macro avg       0.81      0.57      0.59   9215898\n",
      "weighted avg       0.87      0.88      0.85   9215898\n",
      "\n"
     ]
    }
   ],
   "source": [
    "from sklearn.metrics import classification_report\n",
    "print(classification_report(y_test, y_pred))\n"
   ]
  },
  {
   "cell_type": "code",
   "execution_count": 48,
   "id": "d05e7e04",
   "metadata": {},
   "outputs": [
    {
     "data": {
      "image/png": "[encoded data removed]",
      "text/plain": [
       "<Figure size 432x288 with 2 Axes>"
      ]
     },
     "metadata": {
      "needs_background": "light"
     },
     "output_type": "display_data"
    }
   ],
   "source": [
    "from sklearn.metrics import confusion_matrix\n",
    "from sklearn.metrics import ConfusionMatrixDisplay\n",
    "\n",
    "\n",
    "cm = confusion_matrix(y_test, y_pred)\n",
    "disp = ConfusionMatrixDisplay(confusion_matrix = cm, display_labels = xgb_model.classes_)\n",
    "disp.plot();"
   ]
  },
  {
   "cell_type": "code",
   "execution_count": 49,
   "id": "25f27953",
   "metadata": {},
   "outputs": [
    {
     "data": {
      "text/html": [
       "<div>\n",
       "<style scoped>\n",
       "    .dataframe tbody tr th:only-of-type {\n",
       "        vertical-align: middle;\n",
       "    }\n",
       "\n",
       "    .dataframe tbody tr th {\n",
       "        vertical-align: top;\n",
       "    }\n",
       "\n",
       "    .dataframe thead th {\n",
       "        text-align: right;\n",
       "    }\n",
       "</style>\n",
       "<table border=\"1\" class=\"dataframe\">\n",
       "  <thead>\n",
       "    <tr style=\"text-align: right;\">\n",
       "      <th></th>\n",
       "      <th>feature_importance</th>\n",
       "      <th>attribute</th>\n",
       "    </tr>\n",
       "  </thead>\n",
       "  <tbody>\n",
       "    <tr>\n",
       "      <th>0</th>\n",
       "      <td>0.384904</td>\n",
       "      <td>_up_order_count</td>\n",
       "    </tr>\n",
       "    <tr>\n",
       "      <th>6</th>\n",
       "      <td>0.119769</td>\n",
       "      <td>_prod_reorder_ratio</td>\n",
       "    </tr>\n",
       "    <tr>\n",
       "      <th>7</th>\n",
       "      <td>0.106106</td>\n",
       "      <td>_user_total_orders</td>\n",
       "    </tr>\n",
       "    <tr>\n",
       "      <th>13</th>\n",
       "      <td>0.065768</td>\n",
       "      <td>time_since_last_order</td>\n",
       "    </tr>\n",
       "    <tr>\n",
       "      <th>5</th>\n",
       "      <td>0.064471</td>\n",
       "      <td>_prod_buy_multi_time_total_cnt</td>\n",
       "    </tr>\n",
       "    <tr>\n",
       "      <th>9</th>\n",
       "      <td>0.044660</td>\n",
       "      <td>_user_max_days_since_prior_order</td>\n",
       "    </tr>\n",
       "    <tr>\n",
       "      <th>8</th>\n",
       "      <td>0.043649</td>\n",
       "      <td>_user_mean_days_since_prior_order</td>\n",
       "    </tr>\n",
       "    <tr>\n",
       "      <th>1</th>\n",
       "      <td>0.043427</td>\n",
       "      <td>_up_average_cart_position</td>\n",
       "    </tr>\n",
       "    <tr>\n",
       "      <th>3</th>\n",
       "      <td>0.042757</td>\n",
       "      <td>_prod_reorder_tot_cnts</td>\n",
       "    </tr>\n",
       "    <tr>\n",
       "      <th>2</th>\n",
       "      <td>0.037197</td>\n",
       "      <td>_prod_tot_cnts</td>\n",
       "    </tr>\n",
       "    <tr>\n",
       "      <th>4</th>\n",
       "      <td>0.036037</td>\n",
       "      <td>_prod_buy_first_time_total_cnt</td>\n",
       "    </tr>\n",
       "    <tr>\n",
       "      <th>10</th>\n",
       "      <td>0.006985</td>\n",
       "      <td>_user_total_products</td>\n",
       "    </tr>\n",
       "    <tr>\n",
       "      <th>12</th>\n",
       "      <td>0.004270</td>\n",
       "      <td>_user_average_basket</td>\n",
       "    </tr>\n",
       "    <tr>\n",
       "      <th>11</th>\n",
       "      <td>0.000000</td>\n",
       "      <td>_user_distinct_products</td>\n",
       "    </tr>\n",
       "  </tbody>\n",
       "</table>\n",
       "</div>"
      ],
      "text/plain": [
       "    feature_importance                          attribute\n",
       "0             0.384904                    _up_order_count\n",
       "6             0.119769                _prod_reorder_ratio\n",
       "7             0.106106                 _user_total_orders\n",
       "13            0.065768              time_since_last_order\n",
       "5             0.064471     _prod_buy_multi_time_total_cnt\n",
       "9             0.044660   _user_max_days_since_prior_order\n",
       "8             0.043649  _user_mean_days_since_prior_order\n",
       "1             0.043427          _up_average_cart_position\n",
       "3             0.042757             _prod_reorder_tot_cnts\n",
       "2             0.037197                     _prod_tot_cnts\n",
       "4             0.036037     _prod_buy_first_time_total_cnt\n",
       "10            0.006985               _user_total_products\n",
       "12            0.004270               _user_average_basket\n",
       "11            0.000000            _user_distinct_products"
      ]
     },
     "execution_count": 49,
     "metadata": {},
     "output_type": "execute_result"
    }
   ],
   "source": [
    "feature_importances = xgb_model.feature_importances_\n",
    "feature_importances = pd.DataFrame(zip(feature_importances, X_train.columns), \n",
    "                                  columns = ['feature_importance', 'attribute']).sort_values('feature_importance', \n",
    "                                                                                             ascending = False)\n",
    "feature_importances"
   ]
  },
  {
   "cell_type": "code",
   "execution_count": 50,
   "id": "c863e399",
   "metadata": {},
   "outputs": [
    {
     "data": {
      "image/png": "[encoded data removed]",
      "text/plain": [
       "<Figure size 432x288 with 1 Axes>"
      ]
     },
     "metadata": {
      "needs_background": "light"
     },
     "output_type": "display_data"
    }
   ],
   "source": [
    "from xgboost import plot_importance\n",
    "plot_importance(xgb_model);"
   ]
  }
 ],
 "metadata": {
  "kernelspec": {
   "display_name": "Python 3 (ipykernel)",
   "language": "python",
   "name": "python3"
  },
  "language_info": {
   "codemirror_mode": {
    "name": "ipython",
    "version": 3
   },
   "file_extension": ".py",
   "mimetype": "text/x-python",
   "name": "python",
   "nbconvert_exporter": "python",
   "pygments_lexer": "ipython3",
   "version": "3.8.12"
  }
 },
 "nbformat": 4,
 "nbformat_minor": 5
}
